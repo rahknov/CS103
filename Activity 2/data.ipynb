{
 "cells": [
  {
   "cell_type": "code",
   "execution_count": 23,
   "metadata": {},
   "outputs": [],
   "source": [
    "import pandas as pd \n",
    "import seaborn as sns\n",
    "import numpy as np\n",
    "import matplotlib.pyplot as plt "
   ]
  },
  {
   "cell_type": "code",
   "execution_count": 3,
   "metadata": {},
   "outputs": [
    {
     "data": {
      "text/html": [
       "<div>\n",
       "<style scoped>\n",
       "    .dataframe tbody tr th:only-of-type {\n",
       "        vertical-align: middle;\n",
       "    }\n",
       "\n",
       "    .dataframe tbody tr th {\n",
       "        vertical-align: top;\n",
       "    }\n",
       "\n",
       "    .dataframe thead th {\n",
       "        text-align: right;\n",
       "    }\n",
       "</style>\n",
       "<table border=\"1\" class=\"dataframe\">\n",
       "  <thead>\n",
       "    <tr style=\"text-align: right;\">\n",
       "      <th></th>\n",
       "      <th>preg</th>\n",
       "      <th>plas</th>\n",
       "      <th>pres</th>\n",
       "      <th>skin</th>\n",
       "      <th>test</th>\n",
       "      <th>mass</th>\n",
       "      <th>pedi</th>\n",
       "      <th>age</th>\n",
       "      <th>class</th>\n",
       "    </tr>\n",
       "  </thead>\n",
       "  <tbody>\n",
       "    <tr>\n",
       "      <th>0</th>\n",
       "      <td>6</td>\n",
       "      <td>148</td>\n",
       "      <td>72</td>\n",
       "      <td>35</td>\n",
       "      <td>0</td>\n",
       "      <td>33.6</td>\n",
       "      <td>0.627</td>\n",
       "      <td>50</td>\n",
       "      <td>1</td>\n",
       "    </tr>\n",
       "    <tr>\n",
       "      <th>1</th>\n",
       "      <td>1</td>\n",
       "      <td>85</td>\n",
       "      <td>66</td>\n",
       "      <td>29</td>\n",
       "      <td>0</td>\n",
       "      <td>26.6</td>\n",
       "      <td>0.351</td>\n",
       "      <td>31</td>\n",
       "      <td>0</td>\n",
       "    </tr>\n",
       "    <tr>\n",
       "      <th>2</th>\n",
       "      <td>8</td>\n",
       "      <td>183</td>\n",
       "      <td>64</td>\n",
       "      <td>0</td>\n",
       "      <td>0</td>\n",
       "      <td>23.3</td>\n",
       "      <td>0.672</td>\n",
       "      <td>32</td>\n",
       "      <td>1</td>\n",
       "    </tr>\n",
       "    <tr>\n",
       "      <th>3</th>\n",
       "      <td>1</td>\n",
       "      <td>89</td>\n",
       "      <td>66</td>\n",
       "      <td>23</td>\n",
       "      <td>94</td>\n",
       "      <td>28.1</td>\n",
       "      <td>0.167</td>\n",
       "      <td>21</td>\n",
       "      <td>0</td>\n",
       "    </tr>\n",
       "    <tr>\n",
       "      <th>4</th>\n",
       "      <td>0</td>\n",
       "      <td>137</td>\n",
       "      <td>40</td>\n",
       "      <td>35</td>\n",
       "      <td>168</td>\n",
       "      <td>43.1</td>\n",
       "      <td>2.288</td>\n",
       "      <td>33</td>\n",
       "      <td>1</td>\n",
       "    </tr>\n",
       "  </tbody>\n",
       "</table>\n",
       "</div>"
      ],
      "text/plain": [
       "   preg plas pres skin test  mass   pedi  age  class\n",
       "0     6  148   72   35    0  33.6  0.627   50      1\n",
       "1     1   85   66   29    0  26.6  0.351   31      0\n",
       "2     8  183   64    0    0  23.3  0.672   32      1\n",
       "3     1   89   66   23   94  28.1  0.167   21      0\n",
       "4     0  137   40   35  168  43.1  2.288   33      1"
      ]
     },
     "execution_count": 3,
     "metadata": {},
     "output_type": "execute_result"
    }
   ],
   "source": [
    "#READ the csv file and name it as diabetes_df\n",
    "diabetes_df = pd.read_csv(\"diabetes.csv\")\n",
    "diabetes_df.head()"
   ]
  },
  {
   "cell_type": "code",
   "execution_count": 4,
   "metadata": {},
   "outputs": [
    {
     "name": "stdout",
     "output_type": "stream",
     "text": [
      "<class 'pandas.core.frame.DataFrame'>\n",
      "RangeIndex: 768 entries, 0 to 767\n",
      "Data columns (total 9 columns):\n",
      " #   Column  Non-Null Count  Dtype \n",
      "---  ------  --------------  ----- \n",
      " 0   preg    768 non-null    int64 \n",
      " 1   plas    768 non-null    object\n",
      " 2   pres    768 non-null    object\n",
      " 3   skin    768 non-null    object\n",
      " 4   test    768 non-null    object\n",
      " 5   mass    768 non-null    object\n",
      " 6   pedi    768 non-null    object\n",
      " 7   age     768 non-null    int64 \n",
      " 8   class   768 non-null    int64 \n",
      "dtypes: int64(3), object(6)\n",
      "memory usage: 54.1+ KB\n",
      "None\n"
     ]
    }
   ],
   "source": [
    "#Check the datatype of the columns\n",
    "print(diabetes_df.info())"
   ]
  },
  {
   "cell_type": "code",
   "execution_count": 5,
   "metadata": {},
   "outputs": [],
   "source": [
    "#Replacing na values with 0 and tba values with 0\n",
    "diabetes_df.replace({'na': '0', 'tba': '0'}, inplace=True)\n",
    "#Replacing all the whitespace in between numbers that is causing an error\n",
    "diabetes_df['pres'] = diabetes_df['pres'].str.replace(' ', '', regex=False)"
   ]
  },
  {
   "cell_type": "code",
   "execution_count": 6,
   "metadata": {},
   "outputs": [],
   "source": [
    "#Converting columns with continuous data to float64\n",
    "diabetes_df[\"mass\"] = diabetes_df[\"mass\"].astype('float64')\n",
    "diabetes_df[\"pedi\"] = diabetes_df[\"pedi\"].astype('float64')"
   ]
  },
  {
   "cell_type": "code",
   "execution_count": 7,
   "metadata": {},
   "outputs": [],
   "source": [
    "#Converting columns with discrete data to int64\n",
    "diabetes_df['plas'] = diabetes_df['plas'].astype('int64')\n",
    "diabetes_df['pres'] = diabetes_df['pres'].astype('int64')\n",
    "diabetes_df['skin'] = diabetes_df['skin'].astype('int64')\n",
    "diabetes_df['test'] = diabetes_df['test'].astype('int64')"
   ]
  },
  {
   "cell_type": "code",
   "execution_count": 8,
   "metadata": {},
   "outputs": [
    {
     "name": "stdout",
     "output_type": "stream",
     "text": [
      "<class 'pandas.core.frame.DataFrame'>\n",
      "RangeIndex: 768 entries, 0 to 767\n",
      "Data columns (total 9 columns):\n",
      " #   Column  Non-Null Count  Dtype  \n",
      "---  ------  --------------  -----  \n",
      " 0   preg    768 non-null    int64  \n",
      " 1   plas    768 non-null    int64  \n",
      " 2   pres    768 non-null    int64  \n",
      " 3   skin    768 non-null    int64  \n",
      " 4   test    768 non-null    int64  \n",
      " 5   mass    768 non-null    float64\n",
      " 6   pedi    768 non-null    float64\n",
      " 7   age     768 non-null    int64  \n",
      " 8   class   768 non-null    int64  \n",
      "dtypes: float64(2), int64(7)\n",
      "memory usage: 54.1 KB\n",
      "None\n"
     ]
    }
   ],
   "source": [
    "#Check the datatype of the columns again\n",
    "print(diabetes_df.info())"
   ]
  },
  {
   "cell_type": "code",
   "execution_count": 9,
   "metadata": {},
   "outputs": [],
   "source": [
    "#Grab the mean of all the columns in order to replace the 0 or NA Values\n",
    "preg_mean = round(diabetes_df[\"preg\"].mean(),0)\n",
    "plas_mean = diabetes_df[\"plas\"].mean()\n",
    "pres_mean = round(diabetes_df[\"pres\"].mean(),0)\n",
    "skin_mean = round(diabetes_df[\"skin\"].mean(),0)\n",
    "test_mean = round(diabetes_df[\"test\"].mean(),0)\n",
    "age_mean = round(diabetes_df[\"age\"].mean(),0)\n",
    "class_mean = round(diabetes_df[\"class\"].mean(),0) \n",
    "\n",
    "#Grab the mean of mass which is 1 decimal place\n",
    "mass_mean = round(diabetes_df[\"mass\"].mean(),1)\n",
    "#Grab the mean of pedi which is 3 decimal places\n",
    "pedi_mean = round(diabetes_df[\"pedi\"].mean(),3)"
   ]
  },
  {
   "cell_type": "code",
   "execution_count": 10,
   "metadata": {},
   "outputs": [
    {
     "name": "stderr",
     "output_type": "stream",
     "text": [
      "/tmp/ipykernel_2993/1995162962.py:2: FutureWarning: A value is trying to be set on a copy of a DataFrame or Series through chained assignment using an inplace method.\n",
      "The behavior will change in pandas 3.0. This inplace method will never work because the intermediate object on which we are setting values always behaves as a copy.\n",
      "\n",
      "For example, when doing 'df[col].method(value, inplace=True)', try using 'df.method({col: value}, inplace=True)' or df[col] = df[col].method(value) instead, to perform the operation inplace on the original object.\n",
      "\n",
      "\n",
      "  diabetes_df[\"preg\"].replace(0, preg_mean, inplace=True)\n",
      "/tmp/ipykernel_2993/1995162962.py:3: FutureWarning: A value is trying to be set on a copy of a DataFrame or Series through chained assignment using an inplace method.\n",
      "The behavior will change in pandas 3.0. This inplace method will never work because the intermediate object on which we are setting values always behaves as a copy.\n",
      "\n",
      "For example, when doing 'df[col].method(value, inplace=True)', try using 'df.method({col: value}, inplace=True)' or df[col] = df[col].method(value) instead, to perform the operation inplace on the original object.\n",
      "\n",
      "\n",
      "  diabetes_df[\"plas\"].replace(0, plas_mean, inplace=True)\n",
      "/tmp/ipykernel_2993/1995162962.py:4: FutureWarning: A value is trying to be set on a copy of a DataFrame or Series through chained assignment using an inplace method.\n",
      "The behavior will change in pandas 3.0. This inplace method will never work because the intermediate object on which we are setting values always behaves as a copy.\n",
      "\n",
      "For example, when doing 'df[col].method(value, inplace=True)', try using 'df.method({col: value}, inplace=True)' or df[col] = df[col].method(value) instead, to perform the operation inplace on the original object.\n",
      "\n",
      "\n",
      "  diabetes_df[\"pres\"].replace(0, pres_mean, inplace=True)\n",
      "/tmp/ipykernel_2993/1995162962.py:5: FutureWarning: A value is trying to be set on a copy of a DataFrame or Series through chained assignment using an inplace method.\n",
      "The behavior will change in pandas 3.0. This inplace method will never work because the intermediate object on which we are setting values always behaves as a copy.\n",
      "\n",
      "For example, when doing 'df[col].method(value, inplace=True)', try using 'df.method({col: value}, inplace=True)' or df[col] = df[col].method(value) instead, to perform the operation inplace on the original object.\n",
      "\n",
      "\n",
      "  diabetes_df[\"skin\"].replace(0, skin_mean, inplace=True)\n",
      "/tmp/ipykernel_2993/1995162962.py:6: FutureWarning: A value is trying to be set on a copy of a DataFrame or Series through chained assignment using an inplace method.\n",
      "The behavior will change in pandas 3.0. This inplace method will never work because the intermediate object on which we are setting values always behaves as a copy.\n",
      "\n",
      "For example, when doing 'df[col].method(value, inplace=True)', try using 'df.method({col: value}, inplace=True)' or df[col] = df[col].method(value) instead, to perform the operation inplace on the original object.\n",
      "\n",
      "\n",
      "  diabetes_df[\"test\"].replace(0, test_mean, inplace=True)\n",
      "/tmp/ipykernel_2993/1995162962.py:7: FutureWarning: A value is trying to be set on a copy of a DataFrame or Series through chained assignment using an inplace method.\n",
      "The behavior will change in pandas 3.0. This inplace method will never work because the intermediate object on which we are setting values always behaves as a copy.\n",
      "\n",
      "For example, when doing 'df[col].method(value, inplace=True)', try using 'df.method({col: value}, inplace=True)' or df[col] = df[col].method(value) instead, to perform the operation inplace on the original object.\n",
      "\n",
      "\n",
      "  diabetes_df[\"age\"].replace(0, age_mean, inplace=True)\n",
      "/tmp/ipykernel_2993/1995162962.py:8: FutureWarning: A value is trying to be set on a copy of a DataFrame or Series through chained assignment using an inplace method.\n",
      "The behavior will change in pandas 3.0. This inplace method will never work because the intermediate object on which we are setting values always behaves as a copy.\n",
      "\n",
      "For example, when doing 'df[col].method(value, inplace=True)', try using 'df.method({col: value}, inplace=True)' or df[col] = df[col].method(value) instead, to perform the operation inplace on the original object.\n",
      "\n",
      "\n",
      "  diabetes_df[\"class\"].replace(0, class_mean, inplace=True)\n"
     ]
    },
    {
     "data": {
      "text/html": [
       "<div>\n",
       "<style scoped>\n",
       "    .dataframe tbody tr th:only-of-type {\n",
       "        vertical-align: middle;\n",
       "    }\n",
       "\n",
       "    .dataframe tbody tr th {\n",
       "        vertical-align: top;\n",
       "    }\n",
       "\n",
       "    .dataframe thead th {\n",
       "        text-align: right;\n",
       "    }\n",
       "</style>\n",
       "<table border=\"1\" class=\"dataframe\">\n",
       "  <thead>\n",
       "    <tr style=\"text-align: right;\">\n",
       "      <th></th>\n",
       "      <th>preg</th>\n",
       "      <th>plas</th>\n",
       "      <th>pres</th>\n",
       "      <th>skin</th>\n",
       "      <th>test</th>\n",
       "      <th>mass</th>\n",
       "      <th>pedi</th>\n",
       "      <th>age</th>\n",
       "      <th>class</th>\n",
       "    </tr>\n",
       "  </thead>\n",
       "  <tbody>\n",
       "    <tr>\n",
       "      <th>0</th>\n",
       "      <td>6</td>\n",
       "      <td>148.0</td>\n",
       "      <td>72</td>\n",
       "      <td>35</td>\n",
       "      <td>80</td>\n",
       "      <td>33.6</td>\n",
       "      <td>0.627</td>\n",
       "      <td>50</td>\n",
       "      <td>1</td>\n",
       "    </tr>\n",
       "    <tr>\n",
       "      <th>1</th>\n",
       "      <td>1</td>\n",
       "      <td>85.0</td>\n",
       "      <td>66</td>\n",
       "      <td>29</td>\n",
       "      <td>80</td>\n",
       "      <td>26.6</td>\n",
       "      <td>0.351</td>\n",
       "      <td>31</td>\n",
       "      <td>0</td>\n",
       "    </tr>\n",
       "    <tr>\n",
       "      <th>2</th>\n",
       "      <td>8</td>\n",
       "      <td>183.0</td>\n",
       "      <td>64</td>\n",
       "      <td>21</td>\n",
       "      <td>80</td>\n",
       "      <td>23.3</td>\n",
       "      <td>0.672</td>\n",
       "      <td>32</td>\n",
       "      <td>1</td>\n",
       "    </tr>\n",
       "    <tr>\n",
       "      <th>3</th>\n",
       "      <td>1</td>\n",
       "      <td>89.0</td>\n",
       "      <td>66</td>\n",
       "      <td>23</td>\n",
       "      <td>94</td>\n",
       "      <td>28.1</td>\n",
       "      <td>0.167</td>\n",
       "      <td>21</td>\n",
       "      <td>0</td>\n",
       "    </tr>\n",
       "    <tr>\n",
       "      <th>4</th>\n",
       "      <td>4</td>\n",
       "      <td>137.0</td>\n",
       "      <td>40</td>\n",
       "      <td>35</td>\n",
       "      <td>168</td>\n",
       "      <td>43.1</td>\n",
       "      <td>2.288</td>\n",
       "      <td>33</td>\n",
       "      <td>1</td>\n",
       "    </tr>\n",
       "    <tr>\n",
       "      <th>5</th>\n",
       "      <td>5</td>\n",
       "      <td>116.0</td>\n",
       "      <td>74</td>\n",
       "      <td>21</td>\n",
       "      <td>80</td>\n",
       "      <td>25.6</td>\n",
       "      <td>0.201</td>\n",
       "      <td>30</td>\n",
       "      <td>0</td>\n",
       "    </tr>\n",
       "    <tr>\n",
       "      <th>6</th>\n",
       "      <td>3</td>\n",
       "      <td>78.0</td>\n",
       "      <td>50</td>\n",
       "      <td>32</td>\n",
       "      <td>88</td>\n",
       "      <td>31.0</td>\n",
       "      <td>0.248</td>\n",
       "      <td>26</td>\n",
       "      <td>1</td>\n",
       "    </tr>\n",
       "    <tr>\n",
       "      <th>7</th>\n",
       "      <td>10</td>\n",
       "      <td>115.0</td>\n",
       "      <td>69</td>\n",
       "      <td>21</td>\n",
       "      <td>80</td>\n",
       "      <td>35.3</td>\n",
       "      <td>0.134</td>\n",
       "      <td>29</td>\n",
       "      <td>0</td>\n",
       "    </tr>\n",
       "    <tr>\n",
       "      <th>8</th>\n",
       "      <td>2</td>\n",
       "      <td>197.0</td>\n",
       "      <td>70</td>\n",
       "      <td>45</td>\n",
       "      <td>543</td>\n",
       "      <td>30.5</td>\n",
       "      <td>0.158</td>\n",
       "      <td>53</td>\n",
       "      <td>1</td>\n",
       "    </tr>\n",
       "    <tr>\n",
       "      <th>9</th>\n",
       "      <td>8</td>\n",
       "      <td>125.0</td>\n",
       "      <td>96</td>\n",
       "      <td>21</td>\n",
       "      <td>80</td>\n",
       "      <td>0.0</td>\n",
       "      <td>0.232</td>\n",
       "      <td>54</td>\n",
       "      <td>1</td>\n",
       "    </tr>\n",
       "  </tbody>\n",
       "</table>\n",
       "</div>"
      ],
      "text/plain": [
       "   preg   plas  pres  skin  test  mass   pedi  age  class\n",
       "0     6  148.0    72    35    80  33.6  0.627   50      1\n",
       "1     1   85.0    66    29    80  26.6  0.351   31      0\n",
       "2     8  183.0    64    21    80  23.3  0.672   32      1\n",
       "3     1   89.0    66    23    94  28.1  0.167   21      0\n",
       "4     4  137.0    40    35   168  43.1  2.288   33      1\n",
       "5     5  116.0    74    21    80  25.6  0.201   30      0\n",
       "6     3   78.0    50    32    88  31.0  0.248   26      1\n",
       "7    10  115.0    69    21    80  35.3  0.134   29      0\n",
       "8     2  197.0    70    45   543  30.5  0.158   53      1\n",
       "9     8  125.0    96    21    80   0.0  0.232   54      1"
      ]
     },
     "execution_count": 10,
     "metadata": {},
     "output_type": "execute_result"
    }
   ],
   "source": [
    "#Replacing the 0 values with the column mean\n",
    "diabetes_df[\"preg\"].replace(0, preg_mean, inplace=True)\n",
    "diabetes_df[\"plas\"].replace(0, plas_mean, inplace=True)\n",
    "diabetes_df[\"pres\"].replace(0, pres_mean, inplace=True)\n",
    "diabetes_df[\"skin\"].replace(0, skin_mean, inplace=True)\n",
    "diabetes_df[\"test\"].replace(0, test_mean, inplace=True)\n",
    "diabetes_df[\"age\"].replace(0, age_mean, inplace=True)\n",
    "diabetes_df[\"class\"].replace(0, class_mean, inplace=True)\n",
    "\n",
    "diabetes_df.head(10)"
   ]
  },
  {
   "cell_type": "code",
   "execution_count": 11,
   "metadata": {},
   "outputs": [
    {
     "name": "stderr",
     "output_type": "stream",
     "text": [
      "/tmp/ipykernel_2993/3394448339.py:2: FutureWarning: A value is trying to be set on a copy of a DataFrame or Series through chained assignment using an inplace method.\n",
      "The behavior will change in pandas 3.0. This inplace method will never work because the intermediate object on which we are setting values always behaves as a copy.\n",
      "\n",
      "For example, when doing 'df[col].method(value, inplace=True)', try using 'df.method({col: value}, inplace=True)' or df[col] = df[col].method(value) instead, to perform the operation inplace on the original object.\n",
      "\n",
      "\n",
      "  diabetes_df['pedi'].replace(0.0, pedi_mean, inplace=True)\n",
      "/tmp/ipykernel_2993/3394448339.py:3: FutureWarning: A value is trying to be set on a copy of a DataFrame or Series through chained assignment using an inplace method.\n",
      "The behavior will change in pandas 3.0. This inplace method will never work because the intermediate object on which we are setting values always behaves as a copy.\n",
      "\n",
      "For example, when doing 'df[col].method(value, inplace=True)', try using 'df.method({col: value}, inplace=True)' or df[col] = df[col].method(value) instead, to perform the operation inplace on the original object.\n",
      "\n",
      "\n",
      "  diabetes_df['mass'].replace(0.0, mass_mean, inplace=True)\n"
     ]
    }
   ],
   "source": [
    "#Replacing pedi and mass 0 values into their respective column mean\n",
    "diabetes_df['pedi'].replace(0.0, pedi_mean, inplace=True)\n",
    "diabetes_df['mass'].replace(0.0, mass_mean, inplace=True)"
   ]
  },
  {
   "cell_type": "code",
   "execution_count": 12,
   "metadata": {},
   "outputs": [
    {
     "name": "stdout",
     "output_type": "stream",
     "text": [
      "             preg        plas        pres        skin        test        mass  \\\n",
      "count  768.000000  768.000000  768.000000  768.000000  768.000000  768.000000   \n",
      "mean     4.423177  121.672353   72.253906   26.768229  118.753906   32.466276   \n",
      "std      2.980481   30.397298   12.115669    9.519125   93.041148    6.864558   \n",
      "min      1.000000   44.000000   24.000000    7.000000   14.000000   18.200000   \n",
      "25%      2.000000   99.750000   64.000000   21.000000   80.000000   27.575000   \n",
      "50%      4.000000  117.500000   72.000000   23.000000   80.000000   32.000000   \n",
      "75%      6.000000  140.000000   80.000000   32.000000  127.250000   36.600000   \n",
      "max     17.000000  199.000000  122.000000   99.000000  846.000000   67.100000   \n",
      "\n",
      "             pedi         age       class  \n",
      "count  768.000000  768.000000  768.000000  \n",
      "mean     0.472318   33.240885    0.348958  \n",
      "std      0.331208   11.760232    0.476951  \n",
      "min      0.078000   21.000000    0.000000  \n",
      "25%      0.243750   24.000000    0.000000  \n",
      "50%      0.375500   29.000000    0.000000  \n",
      "75%      0.626250   41.000000    1.000000  \n",
      "max      2.420000   81.000000    1.000000  \n"
     ]
    }
   ],
   "source": [
    "#Printing the descriptive statistics\n",
    "print(diabetes_df.describe())"
   ]
  },
  {
   "cell_type": "code",
   "execution_count": 13,
   "metadata": {},
   "outputs": [
    {
     "data": {
      "text/plain": [
       "class\n",
       "0    500\n",
       "1    268\n",
       "dtype: int64"
      ]
     },
     "execution_count": 13,
     "metadata": {},
     "output_type": "execute_result"
    }
   ],
   "source": [
    "#Print Class Distribution\n",
    "diabetes_df.groupby('class').size()"
   ]
  },
  {
   "cell_type": "code",
   "execution_count": 18,
   "metadata": {},
   "outputs": [
    {
     "data": {
      "text/html": [
       "<div>\n",
       "<style scoped>\n",
       "    .dataframe tbody tr th:only-of-type {\n",
       "        vertical-align: middle;\n",
       "    }\n",
       "\n",
       "    .dataframe tbody tr th {\n",
       "        vertical-align: top;\n",
       "    }\n",
       "\n",
       "    .dataframe thead th {\n",
       "        text-align: right;\n",
       "    }\n",
       "</style>\n",
       "<table border=\"1\" class=\"dataframe\">\n",
       "  <thead>\n",
       "    <tr style=\"text-align: right;\">\n",
       "      <th></th>\n",
       "      <th>preg</th>\n",
       "      <th>plas</th>\n",
       "      <th>pres</th>\n",
       "      <th>skin</th>\n",
       "      <th>test</th>\n",
       "      <th>mass</th>\n",
       "      <th>pedi</th>\n",
       "      <th>age</th>\n",
       "      <th>class</th>\n",
       "    </tr>\n",
       "  </thead>\n",
       "  <tbody>\n",
       "    <tr>\n",
       "      <th>preg</th>\n",
       "      <td>1.000000</td>\n",
       "      <td>0.153041</td>\n",
       "      <td>0.254199</td>\n",
       "      <td>0.049140</td>\n",
       "      <td>-0.016362</td>\n",
       "      <td>0.100070</td>\n",
       "      <td>-0.010053</td>\n",
       "      <td>0.522303</td>\n",
       "      <td>0.248172</td>\n",
       "    </tr>\n",
       "    <tr>\n",
       "      <th>plas</th>\n",
       "      <td>0.153041</td>\n",
       "      <td>1.000000</td>\n",
       "      <td>0.218703</td>\n",
       "      <td>0.157991</td>\n",
       "      <td>0.391682</td>\n",
       "      <td>0.231122</td>\n",
       "      <td>0.134865</td>\n",
       "      <td>0.266031</td>\n",
       "      <td>0.493310</td>\n",
       "    </tr>\n",
       "    <tr>\n",
       "      <th>pres</th>\n",
       "      <td>0.254199</td>\n",
       "      <td>0.218703</td>\n",
       "      <td>1.000000</td>\n",
       "      <td>0.132720</td>\n",
       "      <td>0.011255</td>\n",
       "      <td>0.284384</td>\n",
       "      <td>-0.000764</td>\n",
       "      <td>0.326716</td>\n",
       "      <td>0.162664</td>\n",
       "    </tr>\n",
       "    <tr>\n",
       "      <th>skin</th>\n",
       "      <td>0.049140</td>\n",
       "      <td>0.157991</td>\n",
       "      <td>0.132720</td>\n",
       "      <td>1.000000</td>\n",
       "      <td>0.235866</td>\n",
       "      <td>0.535953</td>\n",
       "      <td>0.151802</td>\n",
       "      <td>0.029033</td>\n",
       "      <td>0.176353</td>\n",
       "    </tr>\n",
       "    <tr>\n",
       "      <th>test</th>\n",
       "      <td>-0.016362</td>\n",
       "      <td>0.391682</td>\n",
       "      <td>0.011255</td>\n",
       "      <td>0.235866</td>\n",
       "      <td>1.000000</td>\n",
       "      <td>0.188670</td>\n",
       "      <td>0.157045</td>\n",
       "      <td>0.038898</td>\n",
       "      <td>0.179336</td>\n",
       "    </tr>\n",
       "    <tr>\n",
       "      <th>mass</th>\n",
       "      <td>0.100070</td>\n",
       "      <td>0.231122</td>\n",
       "      <td>0.284384</td>\n",
       "      <td>0.535953</td>\n",
       "      <td>0.188670</td>\n",
       "      <td>1.000000</td>\n",
       "      <td>0.152791</td>\n",
       "      <td>0.023341</td>\n",
       "      <td>0.311021</td>\n",
       "    </tr>\n",
       "    <tr>\n",
       "      <th>pedi</th>\n",
       "      <td>-0.010053</td>\n",
       "      <td>0.134865</td>\n",
       "      <td>-0.000764</td>\n",
       "      <td>0.151802</td>\n",
       "      <td>0.157045</td>\n",
       "      <td>0.152791</td>\n",
       "      <td>1.000000</td>\n",
       "      <td>0.032714</td>\n",
       "      <td>0.172931</td>\n",
       "    </tr>\n",
       "    <tr>\n",
       "      <th>age</th>\n",
       "      <td>0.522303</td>\n",
       "      <td>0.266031</td>\n",
       "      <td>0.326716</td>\n",
       "      <td>0.029033</td>\n",
       "      <td>0.038898</td>\n",
       "      <td>0.023341</td>\n",
       "      <td>0.032714</td>\n",
       "      <td>1.000000</td>\n",
       "      <td>0.238356</td>\n",
       "    </tr>\n",
       "    <tr>\n",
       "      <th>class</th>\n",
       "      <td>0.248172</td>\n",
       "      <td>0.493310</td>\n",
       "      <td>0.162664</td>\n",
       "      <td>0.176353</td>\n",
       "      <td>0.179336</td>\n",
       "      <td>0.311021</td>\n",
       "      <td>0.172931</td>\n",
       "      <td>0.238356</td>\n",
       "      <td>1.000000</td>\n",
       "    </tr>\n",
       "  </tbody>\n",
       "</table>\n",
       "</div>"
      ],
      "text/plain": [
       "           preg      plas      pres      skin      test      mass      pedi  \\\n",
       "preg   1.000000  0.153041  0.254199  0.049140 -0.016362  0.100070 -0.010053   \n",
       "plas   0.153041  1.000000  0.218703  0.157991  0.391682  0.231122  0.134865   \n",
       "pres   0.254199  0.218703  1.000000  0.132720  0.011255  0.284384 -0.000764   \n",
       "skin   0.049140  0.157991  0.132720  1.000000  0.235866  0.535953  0.151802   \n",
       "test  -0.016362  0.391682  0.011255  0.235866  1.000000  0.188670  0.157045   \n",
       "mass   0.100070  0.231122  0.284384  0.535953  0.188670  1.000000  0.152791   \n",
       "pedi  -0.010053  0.134865 -0.000764  0.151802  0.157045  0.152791  1.000000   \n",
       "age    0.522303  0.266031  0.326716  0.029033  0.038898  0.023341  0.032714   \n",
       "class  0.248172  0.493310  0.162664  0.176353  0.179336  0.311021  0.172931   \n",
       "\n",
       "            age     class  \n",
       "preg   0.522303  0.248172  \n",
       "plas   0.266031  0.493310  \n",
       "pres   0.326716  0.162664  \n",
       "skin   0.029033  0.176353  \n",
       "test   0.038898  0.179336  \n",
       "mass   0.023341  0.311021  \n",
       "pedi   0.032714  0.172931  \n",
       "age    1.000000  0.238356  \n",
       "class  0.238356  1.000000  "
      ]
     },
     "execution_count": 18,
     "metadata": {},
     "output_type": "execute_result"
    }
   ],
   "source": [
    "#Print the Correlation Matrix\n",
    "diabetes_df.corr(method='pearson')"
   ]
  },
  {
   "cell_type": "code",
   "execution_count": 19,
   "metadata": {},
   "outputs": [
    {
     "name": "stdout",
     "output_type": "stream",
     "text": [
      "preg     1.023716\n",
      "plas     0.535085\n",
      "pres     0.173356\n",
      "skin     1.245949\n",
      "test     3.293486\n",
      "mass     0.601416\n",
      "pedi     1.918424\n",
      "age      1.129597\n",
      "class    0.635017\n",
      "dtype: float64\n"
     ]
    }
   ],
   "source": [
    "#Print the skew distribution\n",
    "diabetes_df_skew = diabetes_df.skew()\n",
    "print(diabetes_df_skew)"
   ]
  },
  {
   "cell_type": "code",
   "execution_count": 16,
   "metadata": {},
   "outputs": [],
   "source": [
    "#diabetes_df.to_csv('modified.csv', index=False)"
   ]
  },
  {
   "cell_type": "code",
   "execution_count": 26,
   "metadata": {},
   "outputs": [
    {
     "data": {
      "text/plain": [
       "Text(0.5, 1.0, 'Correlation Heatmap of Diabetes Data')"
      ]
     },
     "execution_count": 26,
     "metadata": {},
     "output_type": "execute_result"
    },
    {
     "data": {
      "image/png": "[encoded data removed]",
      "text/plain": [
       "<Figure size 640x480 with 2 Axes>"
      ]
     },
     "metadata": {},
     "output_type": "display_data"
    }
   ],
   "source": [
    "# plotting correlation heatmap\n",
    "sns.heatmap(diabetes_df.corr(), cmap=\"Blues\", annot=True)\n",
    "plt.title(\"Correlation Heatmap of Diabetes Data\", fontweight='bold', fontsize=16)"
   ]
  },
  {
   "cell_type": "code",
   "execution_count": 25,
   "metadata": {},
   "outputs": [
    {
     "name": "stderr",
     "output_type": "stream",
     "text": [
      "/tmp/ipykernel_2993/4084010275.py:2: FutureWarning: \n",
      "\n",
      "`shade` is now deprecated in favor of `fill`; setting `fill=True`.\n",
      "This will become an error in seaborn v0.14.0; please update your code.\n",
      "\n",
      "  sns.kdeplot(diabetes_df_skew,color=\"red\", shade=True)\n"
     ]
    },
    {
     "data": {
      "text/plain": [
       "Text(0.5, 1.0, 'Skewness of Diabetes Data')"
      ]
     },
     "execution_count": 25,
     "metadata": {},
     "output_type": "execute_result"
    },
    {
     "data": {
      "image/png": "[encoded data removed]",
      "text/plain": [
       "<Figure size 640x480 with 1 Axes>"
      ]
     },
     "metadata": {},
     "output_type": "display_data"
    }
   ],
   "source": [
    "#diabetes_df[\"age\"].skew()\n",
    "sns.kdeplot(diabetes_df_skew,color=\"red\", shade=True)\n",
    "plt.title(\"Skewness of Diabetes Data\", fontweight='bold', fontsize=16)"
   ]
  }
 ],
 "metadata": {
  "kernelspec": {
   "display_name": "minimal_ds",
   "language": "python",
   "name": "python3"
  },
  "language_info": {
   "codemirror_mode": {
    "name": "ipython",
    "version": 3
   },
   "file_extension": ".py",
   "mimetype": "text/x-python",
   "name": "python",
   "nbconvert_exporter": "python",
   "pygments_lexer": "ipython3",
   "version": "3.9.19"
  }
 },
 "nbformat": 4,
 "nbformat_minor": 2
}
